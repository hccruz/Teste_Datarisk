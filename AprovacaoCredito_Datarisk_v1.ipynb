{
 "cells": [
  {
   "cell_type": "markdown",
   "id": "b174b214",
   "metadata": {},
   "source": [
    "# Case - Modelo preditivo para aprovação de crédito"
   ]
  },
  {
   "cell_type": "markdown",
   "id": "7e7af4ee",
   "metadata": {},
   "source": [
    "Modelos de score de crédito calculam a probabilidade de inadimplência e são uma das principais ferramentas utilizadas por diversas empresas para aprovar ou negar um crédito.\n",
    "\n",
    "O objetivo deste desafio é criar um modelo preditivo calculando a probabilidade de inadimplência de cada novo pedido de crédito."
   ]
  },
  {
   "cell_type": "markdown",
   "id": "bf6bbab4",
   "metadata": {},
   "source": [
    "## Objetivo\n",
    "\n",
    "### Construir qualquer modelo preditivo utilizando o arquivo treino.csv.\n",
    "\n",
    "Utilize este modelo para gerar as previsões na base teste.csv, inserindo uma nova coluna na tabela de dados do arquivo teste.csv que contenha as previsões e nomeie esta colunacom o nome \"inadimplente\". Espera-se que não seja necessário mais que um dia para a resolução deste problema."
   ]
  },
  {
   "cell_type": "code",
   "execution_count": 1,
   "id": "64ae96dd",
   "metadata": {},
   "outputs": [],
   "source": [
    "#!pip install xgboost -q\n",
    "#!pip install -q imblearn"
   ]
  },
  {
   "cell_type": "code",
   "execution_count": 2,
   "id": "700316dc",
   "metadata": {},
   "outputs": [],
   "source": [
    "# Imports\n",
    "import time\n",
    "import numpy as np\n",
    "import pandas as pd\n",
    "import matplotlib.pyplot as plt\n",
    "import seaborn as sns\n",
    "from sklearn.preprocessing import MinMaxScaler\n",
    "from sklearn.linear_model import LogisticRegression\n",
    "from sklearn.model_selection import cross_val_score\n",
    "from sklearn.model_selection import KFold\n",
    "import imblearn\n",
    "from imblearn.over_sampling import SMOTE\n",
    "import warnings\n",
    "warnings.filterwarnings(\"ignore\")"
   ]
  },
  {
   "cell_type": "markdown",
   "id": "21f7240b",
   "metadata": {},
   "source": [
    "## Carregando os Dados"
   ]
  },
  {
   "cell_type": "code",
   "execution_count": 3,
   "id": "118e0c66",
   "metadata": {},
   "outputs": [],
   "source": [
    "# Carregar os dados\n",
    "df_treino = pd.read_csv(\"treino.csv\")\n",
    "df_teste = pd.read_csv(\"teste.csv\")"
   ]
  },
  {
   "cell_type": "code",
   "execution_count": 4,
   "id": "6d697592",
   "metadata": {},
   "outputs": [
    {
     "data": {
      "text/plain": [
       "(110000, 11)"
      ]
     },
     "execution_count": 4,
     "metadata": {},
     "output_type": "execute_result"
    }
   ],
   "source": [
    "# Shape\n",
    "df_treino.shape"
   ]
  },
  {
   "cell_type": "code",
   "execution_count": 5,
   "id": "97d783cd",
   "metadata": {},
   "outputs": [
    {
     "data": {
      "text/plain": [
       "(40000, 10)"
      ]
     },
     "execution_count": 5,
     "metadata": {},
     "output_type": "execute_result"
    }
   ],
   "source": [
    "# Shape\n",
    "df_teste.shape"
   ]
  },
  {
   "cell_type": "markdown",
   "id": "1c3d2389",
   "metadata": {},
   "source": [
    "## Análise Exploratória dos Dados"
   ]
  },
  {
   "cell_type": "code",
   "execution_count": 6,
   "id": "1fc20a22",
   "metadata": {},
   "outputs": [
    {
     "data": {
      "text/html": [
       "<div>\n",
       "<style scoped>\n",
       "    .dataframe tbody tr th:only-of-type {\n",
       "        vertical-align: middle;\n",
       "    }\n",
       "\n",
       "    .dataframe tbody tr th {\n",
       "        vertical-align: top;\n",
       "    }\n",
       "\n",
       "    .dataframe thead th {\n",
       "        text-align: right;\n",
       "    }\n",
       "</style>\n",
       "<table border=\"1\" class=\"dataframe\">\n",
       "  <thead>\n",
       "    <tr style=\"text-align: right;\">\n",
       "      <th></th>\n",
       "      <th>inadimplente</th>\n",
       "      <th>util_linhas_inseguras</th>\n",
       "      <th>idade</th>\n",
       "      <th>vezes_passou_de_30_59_dias</th>\n",
       "      <th>razao_debito</th>\n",
       "      <th>salario_mensal</th>\n",
       "      <th>numero_linhas_crdto_aberto</th>\n",
       "      <th>numero_vezes_passou_90_dias</th>\n",
       "      <th>numero_emprestimos_imobiliarios</th>\n",
       "      <th>numero_de_vezes_que_passou_60_89_dias</th>\n",
       "      <th>numero_de_dependentes</th>\n",
       "    </tr>\n",
       "  </thead>\n",
       "  <tbody>\n",
       "    <tr>\n",
       "      <th>0</th>\n",
       "      <td>1</td>\n",
       "      <td>0.766127</td>\n",
       "      <td>45</td>\n",
       "      <td>2</td>\n",
       "      <td>0.802982</td>\n",
       "      <td>9120.0</td>\n",
       "      <td>13</td>\n",
       "      <td>0</td>\n",
       "      <td>6</td>\n",
       "      <td>0</td>\n",
       "      <td>2.0</td>\n",
       "    </tr>\n",
       "    <tr>\n",
       "      <th>1</th>\n",
       "      <td>0</td>\n",
       "      <td>0.957151</td>\n",
       "      <td>40</td>\n",
       "      <td>0</td>\n",
       "      <td>0.121876</td>\n",
       "      <td>2600.0</td>\n",
       "      <td>4</td>\n",
       "      <td>0</td>\n",
       "      <td>0</td>\n",
       "      <td>0</td>\n",
       "      <td>1.0</td>\n",
       "    </tr>\n",
       "    <tr>\n",
       "      <th>2</th>\n",
       "      <td>0</td>\n",
       "      <td>0.658180</td>\n",
       "      <td>38</td>\n",
       "      <td>1</td>\n",
       "      <td>0.085113</td>\n",
       "      <td>3042.0</td>\n",
       "      <td>2</td>\n",
       "      <td>1</td>\n",
       "      <td>0</td>\n",
       "      <td>0</td>\n",
       "      <td>0.0</td>\n",
       "    </tr>\n",
       "    <tr>\n",
       "      <th>3</th>\n",
       "      <td>0</td>\n",
       "      <td>0.233810</td>\n",
       "      <td>30</td>\n",
       "      <td>0</td>\n",
       "      <td>0.036050</td>\n",
       "      <td>3300.0</td>\n",
       "      <td>5</td>\n",
       "      <td>0</td>\n",
       "      <td>0</td>\n",
       "      <td>0</td>\n",
       "      <td>0.0</td>\n",
       "    </tr>\n",
       "    <tr>\n",
       "      <th>4</th>\n",
       "      <td>0</td>\n",
       "      <td>0.907239</td>\n",
       "      <td>49</td>\n",
       "      <td>1</td>\n",
       "      <td>0.024926</td>\n",
       "      <td>63588.0</td>\n",
       "      <td>7</td>\n",
       "      <td>0</td>\n",
       "      <td>1</td>\n",
       "      <td>0</td>\n",
       "      <td>0.0</td>\n",
       "    </tr>\n",
       "  </tbody>\n",
       "</table>\n",
       "</div>"
      ],
      "text/plain": [
       "   inadimplente  util_linhas_inseguras  idade  vezes_passou_de_30_59_dias  \\\n",
       "0             1               0.766127     45                           2   \n",
       "1             0               0.957151     40                           0   \n",
       "2             0               0.658180     38                           1   \n",
       "3             0               0.233810     30                           0   \n",
       "4             0               0.907239     49                           1   \n",
       "\n",
       "   razao_debito  salario_mensal  numero_linhas_crdto_aberto  \\\n",
       "0      0.802982          9120.0                          13   \n",
       "1      0.121876          2600.0                           4   \n",
       "2      0.085113          3042.0                           2   \n",
       "3      0.036050          3300.0                           5   \n",
       "4      0.024926         63588.0                           7   \n",
       "\n",
       "   numero_vezes_passou_90_dias  numero_emprestimos_imobiliarios  \\\n",
       "0                            0                                6   \n",
       "1                            0                                0   \n",
       "2                            1                                0   \n",
       "3                            0                                0   \n",
       "4                            0                                1   \n",
       "\n",
       "   numero_de_vezes_que_passou_60_89_dias  numero_de_dependentes  \n",
       "0                                      0                    2.0  \n",
       "1                                      0                    1.0  \n",
       "2                                      0                    0.0  \n",
       "3                                      0                    0.0  \n",
       "4                                      0                    0.0  "
      ]
     },
     "execution_count": 6,
     "metadata": {},
     "output_type": "execute_result"
    }
   ],
   "source": [
    "# Visualizar uma amostra do dados de treino\n",
    "df_treino.head()"
   ]
  },
  {
   "cell_type": "code",
   "execution_count": 7,
   "id": "295e099e",
   "metadata": {},
   "outputs": [
    {
     "data": {
      "text/html": [
       "<div>\n",
       "<style scoped>\n",
       "    .dataframe tbody tr th:only-of-type {\n",
       "        vertical-align: middle;\n",
       "    }\n",
       "\n",
       "    .dataframe tbody tr th {\n",
       "        vertical-align: top;\n",
       "    }\n",
       "\n",
       "    .dataframe thead th {\n",
       "        text-align: right;\n",
       "    }\n",
       "</style>\n",
       "<table border=\"1\" class=\"dataframe\">\n",
       "  <thead>\n",
       "    <tr style=\"text-align: right;\">\n",
       "      <th></th>\n",
       "      <th>util_linhas_inseguras</th>\n",
       "      <th>idade</th>\n",
       "      <th>vezes_passou_de_30_59_dias</th>\n",
       "      <th>razao_debito</th>\n",
       "      <th>salario_mensal</th>\n",
       "      <th>numero_linhas_crdto_aberto</th>\n",
       "      <th>numero_vezes_passou_90_dias</th>\n",
       "      <th>numero_emprestimos_imobiliarios</th>\n",
       "      <th>numero_de_vezes_que_passou_60_89_dias</th>\n",
       "      <th>numero_de_dependentes</th>\n",
       "    </tr>\n",
       "  </thead>\n",
       "  <tbody>\n",
       "    <tr>\n",
       "      <th>0</th>\n",
       "      <td>0.025849</td>\n",
       "      <td>62</td>\n",
       "      <td>0</td>\n",
       "      <td>0.081775</td>\n",
       "      <td>8180.0</td>\n",
       "      <td>3</td>\n",
       "      <td>0</td>\n",
       "      <td>2</td>\n",
       "      <td>0</td>\n",
       "      <td>0.0</td>\n",
       "    </tr>\n",
       "    <tr>\n",
       "      <th>1</th>\n",
       "      <td>0.667083</td>\n",
       "      <td>55</td>\n",
       "      <td>0</td>\n",
       "      <td>0.153112</td>\n",
       "      <td>2200.0</td>\n",
       "      <td>3</td>\n",
       "      <td>0</td>\n",
       "      <td>0</td>\n",
       "      <td>0</td>\n",
       "      <td>0.0</td>\n",
       "    </tr>\n",
       "    <tr>\n",
       "      <th>2</th>\n",
       "      <td>0.007093</td>\n",
       "      <td>44</td>\n",
       "      <td>0</td>\n",
       "      <td>0.148800</td>\n",
       "      <td>7499.0</td>\n",
       "      <td>20</td>\n",
       "      <td>0</td>\n",
       "      <td>1</td>\n",
       "      <td>0</td>\n",
       "      <td>0.0</td>\n",
       "    </tr>\n",
       "    <tr>\n",
       "      <th>3</th>\n",
       "      <td>0.091213</td>\n",
       "      <td>54</td>\n",
       "      <td>0</td>\n",
       "      <td>0.351635</td>\n",
       "      <td>5900.0</td>\n",
       "      <td>15</td>\n",
       "      <td>0</td>\n",
       "      <td>1</td>\n",
       "      <td>1</td>\n",
       "      <td>0.0</td>\n",
       "    </tr>\n",
       "    <tr>\n",
       "      <th>4</th>\n",
       "      <td>0.112680</td>\n",
       "      <td>54</td>\n",
       "      <td>0</td>\n",
       "      <td>0.065959</td>\n",
       "      <td>2167.0</td>\n",
       "      <td>3</td>\n",
       "      <td>0</td>\n",
       "      <td>0</td>\n",
       "      <td>0</td>\n",
       "      <td>0.0</td>\n",
       "    </tr>\n",
       "  </tbody>\n",
       "</table>\n",
       "</div>"
      ],
      "text/plain": [
       "   util_linhas_inseguras  idade  vezes_passou_de_30_59_dias  razao_debito  \\\n",
       "0               0.025849     62                           0      0.081775   \n",
       "1               0.667083     55                           0      0.153112   \n",
       "2               0.007093     44                           0      0.148800   \n",
       "3               0.091213     54                           0      0.351635   \n",
       "4               0.112680     54                           0      0.065959   \n",
       "\n",
       "   salario_mensal  numero_linhas_crdto_aberto  numero_vezes_passou_90_dias  \\\n",
       "0          8180.0                           3                            0   \n",
       "1          2200.0                           3                            0   \n",
       "2          7499.0                          20                            0   \n",
       "3          5900.0                          15                            0   \n",
       "4          2167.0                           3                            0   \n",
       "\n",
       "   numero_emprestimos_imobiliarios  numero_de_vezes_que_passou_60_89_dias  \\\n",
       "0                                2                                      0   \n",
       "1                                0                                      0   \n",
       "2                                1                                      0   \n",
       "3                                1                                      1   \n",
       "4                                0                                      0   \n",
       "\n",
       "   numero_de_dependentes  \n",
       "0                    0.0  \n",
       "1                    0.0  \n",
       "2                    0.0  \n",
       "3                    0.0  \n",
       "4                    0.0  "
      ]
     },
     "execution_count": 7,
     "metadata": {},
     "output_type": "execute_result"
    }
   ],
   "source": [
    "# Visualizar amostra dos dados de teste\n",
    "df_teste.head()"
   ]
  },
  {
   "cell_type": "code",
   "execution_count": 8,
   "id": "1cd72424",
   "metadata": {},
   "outputs": [
    {
     "data": {
      "text/html": [
       "<div>\n",
       "<style scoped>\n",
       "    .dataframe tbody tr th:only-of-type {\n",
       "        vertical-align: middle;\n",
       "    }\n",
       "\n",
       "    .dataframe tbody tr th {\n",
       "        vertical-align: top;\n",
       "    }\n",
       "\n",
       "    .dataframe thead th {\n",
       "        text-align: right;\n",
       "    }\n",
       "</style>\n",
       "<table border=\"1\" class=\"dataframe\">\n",
       "  <thead>\n",
       "    <tr style=\"text-align: right;\">\n",
       "      <th></th>\n",
       "      <th>inadimplente</th>\n",
       "      <th>util_linhas_inseguras</th>\n",
       "      <th>idade</th>\n",
       "      <th>vezes_passou_de_30_59_dias</th>\n",
       "      <th>razao_debito</th>\n",
       "      <th>salario_mensal</th>\n",
       "      <th>numero_linhas_crdto_aberto</th>\n",
       "      <th>numero_vezes_passou_90_dias</th>\n",
       "      <th>numero_emprestimos_imobiliarios</th>\n",
       "      <th>numero_de_vezes_que_passou_60_89_dias</th>\n",
       "      <th>numero_de_dependentes</th>\n",
       "    </tr>\n",
       "  </thead>\n",
       "  <tbody>\n",
       "    <tr>\n",
       "      <th>count</th>\n",
       "      <td>110000.000000</td>\n",
       "      <td>110000.000000</td>\n",
       "      <td>110000.000000</td>\n",
       "      <td>110000.000000</td>\n",
       "      <td>110000.000000</td>\n",
       "      <td>8.823700e+04</td>\n",
       "      <td>110000.000000</td>\n",
       "      <td>110000.000000</td>\n",
       "      <td>110000.000000</td>\n",
       "      <td>110000.000000</td>\n",
       "      <td>107122.000000</td>\n",
       "    </tr>\n",
       "    <tr>\n",
       "      <th>mean</th>\n",
       "      <td>0.066645</td>\n",
       "      <td>5.929979</td>\n",
       "      <td>52.255636</td>\n",
       "      <td>0.424055</td>\n",
       "      <td>354.823589</td>\n",
       "      <td>6.637411e+03</td>\n",
       "      <td>8.445573</td>\n",
       "      <td>0.269955</td>\n",
       "      <td>1.019891</td>\n",
       "      <td>0.243891</td>\n",
       "      <td>0.757482</td>\n",
       "    </tr>\n",
       "    <tr>\n",
       "      <th>std</th>\n",
       "      <td>0.249408</td>\n",
       "      <td>252.301965</td>\n",
       "      <td>14.768241</td>\n",
       "      <td>4.240780</td>\n",
       "      <td>2074.140421</td>\n",
       "      <td>1.338395e+04</td>\n",
       "      <td>5.139026</td>\n",
       "      <td>4.217326</td>\n",
       "      <td>1.135989</td>\n",
       "      <td>4.204137</td>\n",
       "      <td>1.114670</td>\n",
       "    </tr>\n",
       "    <tr>\n",
       "      <th>min</th>\n",
       "      <td>0.000000</td>\n",
       "      <td>0.000000</td>\n",
       "      <td>0.000000</td>\n",
       "      <td>0.000000</td>\n",
       "      <td>0.000000</td>\n",
       "      <td>0.000000e+00</td>\n",
       "      <td>0.000000</td>\n",
       "      <td>0.000000</td>\n",
       "      <td>0.000000</td>\n",
       "      <td>0.000000</td>\n",
       "      <td>0.000000</td>\n",
       "    </tr>\n",
       "    <tr>\n",
       "      <th>25%</th>\n",
       "      <td>0.000000</td>\n",
       "      <td>0.030054</td>\n",
       "      <td>41.000000</td>\n",
       "      <td>0.000000</td>\n",
       "      <td>0.175016</td>\n",
       "      <td>3.400000e+03</td>\n",
       "      <td>5.000000</td>\n",
       "      <td>0.000000</td>\n",
       "      <td>0.000000</td>\n",
       "      <td>0.000000</td>\n",
       "      <td>0.000000</td>\n",
       "    </tr>\n",
       "    <tr>\n",
       "      <th>50%</th>\n",
       "      <td>0.000000</td>\n",
       "      <td>0.155936</td>\n",
       "      <td>52.000000</td>\n",
       "      <td>0.000000</td>\n",
       "      <td>0.366682</td>\n",
       "      <td>5.400000e+03</td>\n",
       "      <td>8.000000</td>\n",
       "      <td>0.000000</td>\n",
       "      <td>1.000000</td>\n",
       "      <td>0.000000</td>\n",
       "      <td>0.000000</td>\n",
       "    </tr>\n",
       "    <tr>\n",
       "      <th>75%</th>\n",
       "      <td>0.000000</td>\n",
       "      <td>0.562806</td>\n",
       "      <td>63.000000</td>\n",
       "      <td>0.000000</td>\n",
       "      <td>0.866874</td>\n",
       "      <td>8.225000e+03</td>\n",
       "      <td>11.000000</td>\n",
       "      <td>0.000000</td>\n",
       "      <td>2.000000</td>\n",
       "      <td>0.000000</td>\n",
       "      <td>1.000000</td>\n",
       "    </tr>\n",
       "    <tr>\n",
       "      <th>max</th>\n",
       "      <td>1.000000</td>\n",
       "      <td>50708.000000</td>\n",
       "      <td>109.000000</td>\n",
       "      <td>98.000000</td>\n",
       "      <td>329664.000000</td>\n",
       "      <td>3.008750e+06</td>\n",
       "      <td>58.000000</td>\n",
       "      <td>98.000000</td>\n",
       "      <td>54.000000</td>\n",
       "      <td>98.000000</td>\n",
       "      <td>20.000000</td>\n",
       "    </tr>\n",
       "  </tbody>\n",
       "</table>\n",
       "</div>"
      ],
      "text/plain": [
       "        inadimplente  util_linhas_inseguras          idade  \\\n",
       "count  110000.000000          110000.000000  110000.000000   \n",
       "mean        0.066645               5.929979      52.255636   \n",
       "std         0.249408             252.301965      14.768241   \n",
       "min         0.000000               0.000000       0.000000   \n",
       "25%         0.000000               0.030054      41.000000   \n",
       "50%         0.000000               0.155936      52.000000   \n",
       "75%         0.000000               0.562806      63.000000   \n",
       "max         1.000000           50708.000000     109.000000   \n",
       "\n",
       "       vezes_passou_de_30_59_dias   razao_debito  salario_mensal  \\\n",
       "count               110000.000000  110000.000000    8.823700e+04   \n",
       "mean                     0.424055     354.823589    6.637411e+03   \n",
       "std                      4.240780    2074.140421    1.338395e+04   \n",
       "min                      0.000000       0.000000    0.000000e+00   \n",
       "25%                      0.000000       0.175016    3.400000e+03   \n",
       "50%                      0.000000       0.366682    5.400000e+03   \n",
       "75%                      0.000000       0.866874    8.225000e+03   \n",
       "max                     98.000000  329664.000000    3.008750e+06   \n",
       "\n",
       "       numero_linhas_crdto_aberto  numero_vezes_passou_90_dias  \\\n",
       "count               110000.000000                110000.000000   \n",
       "mean                     8.445573                     0.269955   \n",
       "std                      5.139026                     4.217326   \n",
       "min                      0.000000                     0.000000   \n",
       "25%                      5.000000                     0.000000   \n",
       "50%                      8.000000                     0.000000   \n",
       "75%                     11.000000                     0.000000   \n",
       "max                     58.000000                    98.000000   \n",
       "\n",
       "       numero_emprestimos_imobiliarios  numero_de_vezes_que_passou_60_89_dias  \\\n",
       "count                    110000.000000                          110000.000000   \n",
       "mean                          1.019891                               0.243891   \n",
       "std                           1.135989                               4.204137   \n",
       "min                           0.000000                               0.000000   \n",
       "25%                           0.000000                               0.000000   \n",
       "50%                           1.000000                               0.000000   \n",
       "75%                           2.000000                               0.000000   \n",
       "max                          54.000000                              98.000000   \n",
       "\n",
       "       numero_de_dependentes  \n",
       "count          107122.000000  \n",
       "mean                0.757482  \n",
       "std                 1.114670  \n",
       "min                 0.000000  \n",
       "25%                 0.000000  \n",
       "50%                 0.000000  \n",
       "75%                 1.000000  \n",
       "max                20.000000  "
      ]
     },
     "execution_count": 8,
     "metadata": {},
     "output_type": "execute_result"
    }
   ],
   "source": [
    "df_treino.describe()"
   ]
  },
  {
   "cell_type": "code",
   "execution_count": 9,
   "id": "e1d915a1",
   "metadata": {},
   "outputs": [
    {
     "name": "stdout",
     "output_type": "stream",
     "text": [
      "<class 'pandas.core.frame.DataFrame'>\n",
      "RangeIndex: 110000 entries, 0 to 109999\n",
      "Data columns (total 11 columns):\n",
      " #   Column                                 Non-Null Count   Dtype  \n",
      "---  ------                                 --------------   -----  \n",
      " 0   inadimplente                           110000 non-null  int64  \n",
      " 1   util_linhas_inseguras                  110000 non-null  float64\n",
      " 2   idade                                  110000 non-null  int64  \n",
      " 3   vezes_passou_de_30_59_dias             110000 non-null  int64  \n",
      " 4   razao_debito                           110000 non-null  float64\n",
      " 5   salario_mensal                         88237 non-null   float64\n",
      " 6   numero_linhas_crdto_aberto             110000 non-null  int64  \n",
      " 7   numero_vezes_passou_90_dias            110000 non-null  int64  \n",
      " 8   numero_emprestimos_imobiliarios        110000 non-null  int64  \n",
      " 9   numero_de_vezes_que_passou_60_89_dias  110000 non-null  int64  \n",
      " 10  numero_de_dependentes                  107122 non-null  float64\n",
      "dtypes: float64(4), int64(7)\n",
      "memory usage: 9.2 MB\n"
     ]
    }
   ],
   "source": [
    "df_treino.info()"
   ]
  },
  {
   "cell_type": "code",
   "execution_count": 10,
   "id": "86318664",
   "metadata": {},
   "outputs": [
    {
     "name": "stdout",
     "output_type": "stream",
     "text": [
      "<class 'pandas.core.frame.DataFrame'>\n",
      "RangeIndex: 40000 entries, 0 to 39999\n",
      "Data columns (total 10 columns):\n",
      " #   Column                                 Non-Null Count  Dtype  \n",
      "---  ------                                 --------------  -----  \n",
      " 0   util_linhas_inseguras                  40000 non-null  float64\n",
      " 1   idade                                  40000 non-null  int64  \n",
      " 2   vezes_passou_de_30_59_dias             40000 non-null  int64  \n",
      " 3   razao_debito                           40000 non-null  float64\n",
      " 4   salario_mensal                         32032 non-null  float64\n",
      " 5   numero_linhas_crdto_aberto             40000 non-null  int64  \n",
      " 6   numero_vezes_passou_90_dias            40000 non-null  int64  \n",
      " 7   numero_emprestimos_imobiliarios        40000 non-null  int64  \n",
      " 8   numero_de_vezes_que_passou_60_89_dias  40000 non-null  int64  \n",
      " 9   numero_de_dependentes                  38954 non-null  float64\n",
      "dtypes: float64(4), int64(6)\n",
      "memory usage: 3.1 MB\n"
     ]
    }
   ],
   "source": [
    "df_teste.info()"
   ]
  },
  {
   "cell_type": "markdown",
   "id": "8bdf3c7e",
   "metadata": {},
   "source": [
    "## Limpeza e Conversão do Dados"
   ]
  },
  {
   "cell_type": "code",
   "execution_count": 11,
   "id": "09fa95c7",
   "metadata": {},
   "outputs": [
    {
     "data": {
      "text/plain": [
       "inadimplente                                 0\n",
       "util_linhas_inseguras                        0\n",
       "idade                                        0\n",
       "vezes_passou_de_30_59_dias                   0\n",
       "razao_debito                                 0\n",
       "salario_mensal                           21763\n",
       "numero_linhas_crdto_aberto                   0\n",
       "numero_vezes_passou_90_dias                  0\n",
       "numero_emprestimos_imobiliarios              0\n",
       "numero_de_vezes_que_passou_60_89_dias        0\n",
       "numero_de_dependentes                     2878\n",
       "dtype: int64"
      ]
     },
     "execution_count": 11,
     "metadata": {},
     "output_type": "execute_result"
    }
   ],
   "source": [
    "# Contando os valores nulos dos dados de treino\n",
    "df_treino.isnull().sum()"
   ]
  },
  {
   "cell_type": "code",
   "execution_count": 12,
   "id": "720752df",
   "metadata": {},
   "outputs": [
    {
     "data": {
      "text/plain": [
       "util_linhas_inseguras                       0\n",
       "idade                                       0\n",
       "vezes_passou_de_30_59_dias                  0\n",
       "razao_debito                                0\n",
       "salario_mensal                           7968\n",
       "numero_linhas_crdto_aberto                  0\n",
       "numero_vezes_passou_90_dias                 0\n",
       "numero_emprestimos_imobiliarios             0\n",
       "numero_de_vezes_que_passou_60_89_dias       0\n",
       "numero_de_dependentes                    1046\n",
       "dtype: int64"
      ]
     },
     "execution_count": 12,
     "metadata": {},
     "output_type": "execute_result"
    }
   ],
   "source": [
    "# Contando os valores nulos dos dados de teste\n",
    "df_teste.isnull().sum()"
   ]
  },
  {
   "cell_type": "code",
   "execution_count": 13,
   "id": "d7ae7aad",
   "metadata": {},
   "outputs": [
    {
     "data": {
      "text/html": [
       "<div>\n",
       "<style scoped>\n",
       "    .dataframe tbody tr th:only-of-type {\n",
       "        vertical-align: middle;\n",
       "    }\n",
       "\n",
       "    .dataframe tbody tr th {\n",
       "        vertical-align: top;\n",
       "    }\n",
       "\n",
       "    .dataframe thead th {\n",
       "        text-align: right;\n",
       "    }\n",
       "</style>\n",
       "<table border=\"1\" class=\"dataframe\">\n",
       "  <thead>\n",
       "    <tr style=\"text-align: right;\">\n",
       "      <th></th>\n",
       "      <th>Total</th>\n",
       "      <th>Percentual</th>\n",
       "    </tr>\n",
       "  </thead>\n",
       "  <tbody>\n",
       "    <tr>\n",
       "      <th>inadimplente</th>\n",
       "      <td>0</td>\n",
       "      <td>0.000000</td>\n",
       "    </tr>\n",
       "    <tr>\n",
       "      <th>util_linhas_inseguras</th>\n",
       "      <td>0</td>\n",
       "      <td>0.000000</td>\n",
       "    </tr>\n",
       "    <tr>\n",
       "      <th>idade</th>\n",
       "      <td>0</td>\n",
       "      <td>0.000000</td>\n",
       "    </tr>\n",
       "    <tr>\n",
       "      <th>vezes_passou_de_30_59_dias</th>\n",
       "      <td>0</td>\n",
       "      <td>0.000000</td>\n",
       "    </tr>\n",
       "    <tr>\n",
       "      <th>razao_debito</th>\n",
       "      <td>0</td>\n",
       "      <td>0.000000</td>\n",
       "    </tr>\n",
       "    <tr>\n",
       "      <th>salario_mensal</th>\n",
       "      <td>21763</td>\n",
       "      <td>19.784545</td>\n",
       "    </tr>\n",
       "    <tr>\n",
       "      <th>numero_linhas_crdto_aberto</th>\n",
       "      <td>0</td>\n",
       "      <td>0.000000</td>\n",
       "    </tr>\n",
       "    <tr>\n",
       "      <th>numero_vezes_passou_90_dias</th>\n",
       "      <td>0</td>\n",
       "      <td>0.000000</td>\n",
       "    </tr>\n",
       "    <tr>\n",
       "      <th>numero_emprestimos_imobiliarios</th>\n",
       "      <td>0</td>\n",
       "      <td>0.000000</td>\n",
       "    </tr>\n",
       "    <tr>\n",
       "      <th>numero_de_vezes_que_passou_60_89_dias</th>\n",
       "      <td>0</td>\n",
       "      <td>0.000000</td>\n",
       "    </tr>\n",
       "    <tr>\n",
       "      <th>numero_de_dependentes</th>\n",
       "      <td>2878</td>\n",
       "      <td>2.616364</td>\n",
       "    </tr>\n",
       "  </tbody>\n",
       "</table>\n",
       "</div>"
      ],
      "text/plain": [
       "                                       Total  Percentual\n",
       "inadimplente                               0    0.000000\n",
       "util_linhas_inseguras                      0    0.000000\n",
       "idade                                      0    0.000000\n",
       "vezes_passou_de_30_59_dias                 0    0.000000\n",
       "razao_debito                               0    0.000000\n",
       "salario_mensal                         21763   19.784545\n",
       "numero_linhas_crdto_aberto                 0    0.000000\n",
       "numero_vezes_passou_90_dias                0    0.000000\n",
       "numero_emprestimos_imobiliarios            0    0.000000\n",
       "numero_de_vezes_que_passou_60_89_dias      0    0.000000\n",
       "numero_de_dependentes                   2878    2.616364"
      ]
     },
     "execution_count": 13,
     "metadata": {},
     "output_type": "execute_result"
    }
   ],
   "source": [
    "# Verificando o percentual de valores nulos\n",
    "total = df_treino.isnull().sum()\n",
    "percentual = (df_treino.isnull().sum() / df_treino.isnull().count() * 100)\n",
    "pd.concat([total, percentual], axis=1, keys=['Total', 'Percentual'])"
   ]
  },
  {
   "cell_type": "markdown",
   "id": "2eca79b7",
   "metadata": {},
   "source": [
    "Apesar de aproximadamente 20% dos dados estarem com valores nulos, resolvi retirar estes dados do conjunto de dados para treinar o modelo.\n",
    "\n",
    "Também, retirei os valores ausentes conjunto de dados de teste, porque após treinando o modelo não aceita receber estes dados nulos."
   ]
  },
  {
   "cell_type": "code",
   "execution_count": 14,
   "id": "c108c83b",
   "metadata": {},
   "outputs": [],
   "source": [
    "# Removendo dados faltantes\n",
    "df_treino_limpo = df_treino.dropna()\n",
    "df_testelimpo = df_teste.dropna()"
   ]
  },
  {
   "cell_type": "code",
   "execution_count": 15,
   "id": "4e6ab300",
   "metadata": {},
   "outputs": [
    {
     "name": "stdout",
     "output_type": "stream",
     "text": [
      "<class 'pandas.core.frame.DataFrame'>\n",
      "Int64Index: 88237 entries, 0 to 109999\n",
      "Data columns (total 11 columns):\n",
      " #   Column                                 Non-Null Count  Dtype  \n",
      "---  ------                                 --------------  -----  \n",
      " 0   inadimplente                           88237 non-null  int64  \n",
      " 1   util_linhas_inseguras                  88237 non-null  float64\n",
      " 2   idade                                  88237 non-null  int64  \n",
      " 3   vezes_passou_de_30_59_dias             88237 non-null  int64  \n",
      " 4   razao_debito                           88237 non-null  float64\n",
      " 5   salario_mensal                         88237 non-null  float64\n",
      " 6   numero_linhas_crdto_aberto             88237 non-null  int64  \n",
      " 7   numero_vezes_passou_90_dias            88237 non-null  int64  \n",
      " 8   numero_emprestimos_imobiliarios        88237 non-null  int64  \n",
      " 9   numero_de_vezes_que_passou_60_89_dias  88237 non-null  int64  \n",
      " 10  numero_de_dependentes                  88237 non-null  float64\n",
      "dtypes: float64(4), int64(7)\n",
      "memory usage: 8.1 MB\n"
     ]
    }
   ],
   "source": [
    "df_treino_limpo.info()"
   ]
  },
  {
   "cell_type": "code",
   "execution_count": 16,
   "id": "047b82f3",
   "metadata": {},
   "outputs": [
    {
     "name": "stdout",
     "output_type": "stream",
     "text": [
      "<class 'pandas.core.frame.DataFrame'>\n",
      "Int64Index: 32032 entries, 0 to 39999\n",
      "Data columns (total 10 columns):\n",
      " #   Column                                 Non-Null Count  Dtype  \n",
      "---  ------                                 --------------  -----  \n",
      " 0   util_linhas_inseguras                  32032 non-null  float64\n",
      " 1   idade                                  32032 non-null  int64  \n",
      " 2   vezes_passou_de_30_59_dias             32032 non-null  int64  \n",
      " 3   razao_debito                           32032 non-null  float64\n",
      " 4   salario_mensal                         32032 non-null  float64\n",
      " 5   numero_linhas_crdto_aberto             32032 non-null  int64  \n",
      " 6   numero_vezes_passou_90_dias            32032 non-null  int64  \n",
      " 7   numero_emprestimos_imobiliarios        32032 non-null  int64  \n",
      " 8   numero_de_vezes_que_passou_60_89_dias  32032 non-null  int64  \n",
      " 9   numero_de_dependentes                  32032 non-null  float64\n",
      "dtypes: float64(4), int64(6)\n",
      "memory usage: 2.7 MB\n"
     ]
    }
   ],
   "source": [
    "df_testelimpo.info()"
   ]
  },
  {
   "cell_type": "markdown",
   "id": "298edb14",
   "metadata": {},
   "source": [
    "É feito uma conversão na variável alvo(inadimplentes) de tipo inteiro para tipo string, assim os dados passam a ser categóricos, porque queremos saber se o cliente ao pedir crédito será inadimplente(1) ou não(0)."
   ]
  },
  {
   "cell_type": "code",
   "execution_count": 17,
   "id": "7f580a3c",
   "metadata": {},
   "outputs": [
    {
     "data": {
      "text/plain": [
       "0    82153\n",
       "1     6084\n",
       "Name: inadimplente, dtype: int64"
      ]
     },
     "execution_count": 17,
     "metadata": {},
     "output_type": "execute_result"
    }
   ],
   "source": [
    "# Conversão da coluna inadimplente de inteiro para categórica\n",
    "df_treino_limpo['inadimplente'] = df_treino_limpo['inadimplente'].astype(str)\n",
    "df_treino_limpo['inadimplente'].value_counts()"
   ]
  },
  {
   "cell_type": "code",
   "execution_count": 18,
   "id": "58856977",
   "metadata": {},
   "outputs": [],
   "source": [
    "# Separação da variável alvo\n",
    "X_treino = df_treino_limpo.iloc[:,1:]\n",
    "y_treino = df_treino_limpo.iloc[:,0].values"
   ]
  },
  {
   "cell_type": "code",
   "execution_count": 19,
   "id": "be401902",
   "metadata": {},
   "outputs": [
    {
     "data": {
      "text/html": [
       "<div>\n",
       "<style scoped>\n",
       "    .dataframe tbody tr th:only-of-type {\n",
       "        vertical-align: middle;\n",
       "    }\n",
       "\n",
       "    .dataframe tbody tr th {\n",
       "        vertical-align: top;\n",
       "    }\n",
       "\n",
       "    .dataframe thead th {\n",
       "        text-align: right;\n",
       "    }\n",
       "</style>\n",
       "<table border=\"1\" class=\"dataframe\">\n",
       "  <thead>\n",
       "    <tr style=\"text-align: right;\">\n",
       "      <th></th>\n",
       "      <th>util_linhas_inseguras</th>\n",
       "      <th>idade</th>\n",
       "      <th>vezes_passou_de_30_59_dias</th>\n",
       "      <th>razao_debito</th>\n",
       "      <th>salario_mensal</th>\n",
       "      <th>numero_linhas_crdto_aberto</th>\n",
       "      <th>numero_vezes_passou_90_dias</th>\n",
       "      <th>numero_emprestimos_imobiliarios</th>\n",
       "      <th>numero_de_vezes_que_passou_60_89_dias</th>\n",
       "      <th>numero_de_dependentes</th>\n",
       "    </tr>\n",
       "  </thead>\n",
       "  <tbody>\n",
       "    <tr>\n",
       "      <th>0</th>\n",
       "      <td>0.766127</td>\n",
       "      <td>45</td>\n",
       "      <td>2</td>\n",
       "      <td>0.802982</td>\n",
       "      <td>9120.0</td>\n",
       "      <td>13</td>\n",
       "      <td>0</td>\n",
       "      <td>6</td>\n",
       "      <td>0</td>\n",
       "      <td>2.0</td>\n",
       "    </tr>\n",
       "    <tr>\n",
       "      <th>1</th>\n",
       "      <td>0.957151</td>\n",
       "      <td>40</td>\n",
       "      <td>0</td>\n",
       "      <td>0.121876</td>\n",
       "      <td>2600.0</td>\n",
       "      <td>4</td>\n",
       "      <td>0</td>\n",
       "      <td>0</td>\n",
       "      <td>0</td>\n",
       "      <td>1.0</td>\n",
       "    </tr>\n",
       "    <tr>\n",
       "      <th>2</th>\n",
       "      <td>0.658180</td>\n",
       "      <td>38</td>\n",
       "      <td>1</td>\n",
       "      <td>0.085113</td>\n",
       "      <td>3042.0</td>\n",
       "      <td>2</td>\n",
       "      <td>1</td>\n",
       "      <td>0</td>\n",
       "      <td>0</td>\n",
       "      <td>0.0</td>\n",
       "    </tr>\n",
       "    <tr>\n",
       "      <th>3</th>\n",
       "      <td>0.233810</td>\n",
       "      <td>30</td>\n",
       "      <td>0</td>\n",
       "      <td>0.036050</td>\n",
       "      <td>3300.0</td>\n",
       "      <td>5</td>\n",
       "      <td>0</td>\n",
       "      <td>0</td>\n",
       "      <td>0</td>\n",
       "      <td>0.0</td>\n",
       "    </tr>\n",
       "    <tr>\n",
       "      <th>4</th>\n",
       "      <td>0.907239</td>\n",
       "      <td>49</td>\n",
       "      <td>1</td>\n",
       "      <td>0.024926</td>\n",
       "      <td>63588.0</td>\n",
       "      <td>7</td>\n",
       "      <td>0</td>\n",
       "      <td>1</td>\n",
       "      <td>0</td>\n",
       "      <td>0.0</td>\n",
       "    </tr>\n",
       "  </tbody>\n",
       "</table>\n",
       "</div>"
      ],
      "text/plain": [
       "   util_linhas_inseguras  idade  vezes_passou_de_30_59_dias  razao_debito  \\\n",
       "0               0.766127     45                           2      0.802982   \n",
       "1               0.957151     40                           0      0.121876   \n",
       "2               0.658180     38                           1      0.085113   \n",
       "3               0.233810     30                           0      0.036050   \n",
       "4               0.907239     49                           1      0.024926   \n",
       "\n",
       "   salario_mensal  numero_linhas_crdto_aberto  numero_vezes_passou_90_dias  \\\n",
       "0          9120.0                          13                            0   \n",
       "1          2600.0                           4                            0   \n",
       "2          3042.0                           2                            1   \n",
       "3          3300.0                           5                            0   \n",
       "4         63588.0                           7                            0   \n",
       "\n",
       "   numero_emprestimos_imobiliarios  numero_de_vezes_que_passou_60_89_dias  \\\n",
       "0                                6                                      0   \n",
       "1                                0                                      0   \n",
       "2                                0                                      0   \n",
       "3                                0                                      0   \n",
       "4                                1                                      0   \n",
       "\n",
       "   numero_de_dependentes  \n",
       "0                    2.0  \n",
       "1                    1.0  \n",
       "2                    0.0  \n",
       "3                    0.0  \n",
       "4                    0.0  "
      ]
     },
     "execution_count": 19,
     "metadata": {},
     "output_type": "execute_result"
    }
   ],
   "source": [
    "X_treino.head()"
   ]
  },
  {
   "cell_type": "code",
   "execution_count": 20,
   "id": "ef491043",
   "metadata": {},
   "outputs": [
    {
     "data": {
      "text/plain": [
       "array(['1', '0', '0', ..., '0', '0', '0'], dtype=object)"
      ]
     },
     "execution_count": 20,
     "metadata": {},
     "output_type": "execute_result"
    }
   ],
   "source": [
    "y_treino"
   ]
  },
  {
   "cell_type": "markdown",
   "id": "7b987d1e",
   "metadata": {},
   "source": [
    "## Balanceamento das classes"
   ]
  },
  {
   "cell_type": "code",
   "execution_count": 21,
   "id": "6c1dbd41",
   "metadata": {},
   "outputs": [
    {
     "data": {
      "image/png": "[encoded data removed]",
      "text/plain": [
       "<Figure size 432x288 with 1 Axes>"
      ]
     },
     "metadata": {
      "needs_background": "light"
     },
     "output_type": "display_data"
    }
   ],
   "source": [
    "# Verificar se as classes estão balanceadas\n",
    "plt.subplot(1,2,2)\n",
    "plt.title(\"Inadimplente: Sim(1) ou Não(0)\")\n",
    "sns.countplot(y_treino);"
   ]
  },
  {
   "cell_type": "markdown",
   "id": "7d6e08b0",
   "metadata": {},
   "source": [
    "Foi ralizado uma contagem das classes e constatou-se que estas estão muito desbalanceadas. Utilizamos a função `SMOTE` do pacote imblearn para fazer este balanceamento criando dados sintéticos.\n",
    "\n",
    "Dados desbalanceados tendem a tornar o modelo de machine learning enviesado, tendendo mais para uma classe do que outra, no nosso caso, os modelos aprenderiam mais sobre clientes adimplentes do que inadimplentes."
   ]
  },
  {
   "cell_type": "code",
   "execution_count": 22,
   "id": "2ae34a81",
   "metadata": {},
   "outputs": [],
   "source": [
    "# Cria o balanceador SMOTE\n",
    "smote_bal = SMOTE()\n",
    "\n",
    "# Aplica o balanceador\n",
    "X_treino_res, y_treino_res = smote_bal.fit_resample(X_treino, y_treino)"
   ]
  },
  {
   "cell_type": "code",
   "execution_count": 23,
   "id": "56ca6829",
   "metadata": {},
   "outputs": [
    {
     "data": {
      "image/png": "[encoded data removed]",
      "text/plain": [
       "<Figure size 432x288 with 1 Axes>"
      ]
     },
     "metadata": {
      "needs_background": "light"
     },
     "output_type": "display_data"
    }
   ],
   "source": [
    "plt.subplot(1,2,2)\n",
    "plt.title(\"Inadimplente: Sim(1) ou Não(0)\")\n",
    "sns.countplot(y_treino_res);"
   ]
  },
  {
   "cell_type": "markdown",
   "id": "713fb13b",
   "metadata": {},
   "source": [
    "## Padronização dos dados"
   ]
  },
  {
   "cell_type": "markdown",
   "id": "9339d3b6",
   "metadata": {},
   "source": [
    "Após o balanceamento, fazemos uma padronização nos dados para melhorar a performance dos modelos de aprendizado de máquina."
   ]
  },
  {
   "cell_type": "code",
   "execution_count": 24,
   "id": "675d0e9f",
   "metadata": {},
   "outputs": [],
   "source": [
    "scaler = MinMaxScaler()\n",
    "X_treino_scaled = scaler.fit_transform(X_treino_res)\n",
    "X_teste_scaled = scaler.transform(df_testelimpo)"
   ]
  },
  {
   "cell_type": "markdown",
   "id": "a110f82a",
   "metadata": {},
   "source": [
    "## Treinamento do Modelo"
   ]
  },
  {
   "cell_type": "markdown",
   "id": "be3fd8ee",
   "metadata": {},
   "source": [
    "### Regressão Logística"
   ]
  },
  {
   "cell_type": "markdown",
   "id": "7488d743",
   "metadata": {},
   "source": [
    "Para inciar o treinamento do modelo, vamos começar com o algoritmo de Regressão Logística."
   ]
  },
  {
   "cell_type": "code",
   "execution_count": 25,
   "id": "2c8f3135",
   "metadata": {},
   "outputs": [],
   "source": [
    "# Cria o modelo\n",
    "modelo = LogisticRegression(max_iter=1000)"
   ]
  },
  {
   "cell_type": "code",
   "execution_count": 26,
   "id": "532b5d7d",
   "metadata": {},
   "outputs": [],
   "source": [
    "# Separando os dados em folds\n",
    "num_folds = 5\n",
    "kfold = KFold(num_folds, shuffle=True)"
   ]
  },
  {
   "cell_type": "code",
   "execution_count": 27,
   "id": "18257ea1",
   "metadata": {},
   "outputs": [
    {
     "name": "stdout",
     "output_type": "stream",
     "text": [
      "Tempo de Treinamento do Modelo: 8.038665771484375\n"
     ]
    }
   ],
   "source": [
    "# Treina o modelo e verifica o score\n",
    "start = time.time()\n",
    "modelo_v1 = modelo.fit(X_treino_scaled, y_treino_res)\n",
    "scores_v1 = cross_val_score(modelo_v1, X_treino_scaled, y_treino_res, cv = kfold, scoring = 'accuracy')\n",
    "end = time.time()\n",
    "print('Tempo de Treinamento do Modelo:', end - start)"
   ]
  },
  {
   "cell_type": "code",
   "execution_count": 28,
   "id": "9a4f3d18",
   "metadata": {},
   "outputs": [
    {
     "name": "stdout",
     "output_type": "stream",
     "text": [
      "ExtraTreesClassifier -> Acurácia em Treino: Média = 65.359% Desvio Padrão = 0.218%\n"
     ]
    }
   ],
   "source": [
    "# Imprimindo o resultado do score\n",
    "print (\"ExtraTreesClassifier -> Acurácia em Treino: Média = %0.3f%% Desvio Padrão = %0.3f%%\" % (np.mean(scores_v1)*100, np.std(scores_v1)*100))"
   ]
  },
  {
   "cell_type": "code",
   "execution_count": 29,
   "id": "224a557f",
   "metadata": {},
   "outputs": [
    {
     "data": {
      "text/plain": [
       "array(['0', '0', '0', ..., '0', '0', '1'], dtype=object)"
      ]
     },
     "execution_count": 29,
     "metadata": {},
     "output_type": "execute_result"
    }
   ],
   "source": [
    "previsoes_v1 = modelo_v1.predict(X_teste_scaled)\n",
    "previsoes_v1"
   ]
  },
  {
   "cell_type": "markdown",
   "id": "b74e38f3",
   "metadata": {},
   "source": [
    "### Suporte Vector Machine"
   ]
  },
  {
   "cell_type": "code",
   "execution_count": 30,
   "id": "a684064f",
   "metadata": {},
   "outputs": [],
   "source": [
    "# Importando a biblioteca\n",
    "from sklearn import svm"
   ]
  },
  {
   "cell_type": "code",
   "execution_count": 31,
   "id": "4e6638bf",
   "metadata": {},
   "outputs": [],
   "source": [
    "# Cria o modelo\n",
    "modelo = svm.SVC()"
   ]
  },
  {
   "cell_type": "code",
   "execution_count": 32,
   "id": "153c30d0",
   "metadata": {},
   "outputs": [
    {
     "name": "stdout",
     "output_type": "stream",
     "text": [
      "Tempo de Treinamento do Modelo: 6232.161695957184\n"
     ]
    }
   ],
   "source": [
    "# Treina o modelo e verifica o score\n",
    "start = time.time()\n",
    "modelo_v2 = modelo.fit(X_treino_scaled, y_treino_res)\n",
    "scores_v2 = cross_val_score(modelo_v2, X_treino_scaled, y_treino_res, cv = kfold, scoring = 'accuracy')\n",
    "end = time.time()\n",
    "print('Tempo de Treinamento do Modelo:', end - start)"
   ]
  },
  {
   "cell_type": "code",
   "execution_count": 33,
   "id": "5f5a1f61",
   "metadata": {},
   "outputs": [
    {
     "name": "stdout",
     "output_type": "stream",
     "text": [
      "ExtraTreesClassifier -> Acurácia em Treino: Média = 70.206% Desvio Padrão = 0.257%\n"
     ]
    }
   ],
   "source": [
    "# Imprimindo o resultado do score\n",
    "print (\"ExtraTreesClassifier -> Acurácia em Treino: Média = %0.3f%% Desvio Padrão = %0.3f%%\" % (np.mean(scores_v2)*100, np.std(scores_v2)*100))"
   ]
  },
  {
   "cell_type": "code",
   "execution_count": 34,
   "id": "398a02fd",
   "metadata": {},
   "outputs": [
    {
     "data": {
      "text/plain": [
       "array(['0', '0', '0', ..., '0', '1', '1'], dtype=object)"
      ]
     },
     "execution_count": 34,
     "metadata": {},
     "output_type": "execute_result"
    }
   ],
   "source": [
    "previsoes_v2 = modelo_v2.predict(X_teste_scaled)\n",
    "previsoes_v2"
   ]
  },
  {
   "cell_type": "markdown",
   "id": "af220cec",
   "metadata": {},
   "source": [
    "### Random Forest"
   ]
  },
  {
   "cell_type": "code",
   "execution_count": 35,
   "id": "2e6e24cf",
   "metadata": {},
   "outputs": [],
   "source": [
    "# Importando a biblioteca\n",
    "from sklearn.ensemble import RandomForestClassifier"
   ]
  },
  {
   "cell_type": "code",
   "execution_count": 36,
   "id": "1efd83df",
   "metadata": {},
   "outputs": [],
   "source": [
    "# Cria o modelo\n",
    "modelo = RandomForestClassifier()"
   ]
  },
  {
   "cell_type": "code",
   "execution_count": 37,
   "id": "039600ee",
   "metadata": {},
   "outputs": [
    {
     "name": "stdout",
     "output_type": "stream",
     "text": [
      "Tempo de Treinamento do Modelo: 159.83491683006287\n"
     ]
    }
   ],
   "source": [
    "# Treina o modelo e verifica o score\n",
    "start = time.time()\n",
    "modelo_v3 = modelo.fit(X_treino_scaled, y_treino_res)\n",
    "scores_v3 = cross_val_score(modelo_v3, X_treino_scaled, y_treino_res, cv = kfold, scoring = 'accuracy')\n",
    "end = time.time()\n",
    "print('Tempo de Treinamento do Modelo:', end - start)"
   ]
  },
  {
   "cell_type": "code",
   "execution_count": 38,
   "id": "39097361",
   "metadata": {},
   "outputs": [
    {
     "name": "stdout",
     "output_type": "stream",
     "text": [
      "ExtraTreesClassifier -> Acurácia em Treino: Média = 92.264% Desvio Padrão = 0.095%\n"
     ]
    }
   ],
   "source": [
    "# Imprimindo o resultado do score\n",
    "print (\"ExtraTreesClassifier -> Acurácia em Treino: Média = %0.3f%% Desvio Padrão = %0.3f%%\" % (np.mean(scores_v3)*100, np.std(scores_v3)*100))"
   ]
  },
  {
   "cell_type": "code",
   "execution_count": 39,
   "id": "873f6278",
   "metadata": {},
   "outputs": [
    {
     "data": {
      "text/plain": [
       "array(['0', '0', '0', ..., '0', '0', '1'], dtype=object)"
      ]
     },
     "execution_count": 39,
     "metadata": {},
     "output_type": "execute_result"
    }
   ],
   "source": [
    "previsoes_v3 = modelo_v3.predict(X_teste_scaled)\n",
    "previsoes_v3"
   ]
  },
  {
   "cell_type": "markdown",
   "id": "6bfa7b24",
   "metadata": {},
   "source": [
    "### XGBoost"
   ]
  },
  {
   "cell_type": "code",
   "execution_count": 40,
   "id": "204f5ba2",
   "metadata": {},
   "outputs": [],
   "source": [
    "# Importando a biblioteca\n",
    "from xgboost import XGBClassifier"
   ]
  },
  {
   "cell_type": "code",
   "execution_count": 41,
   "id": "2f4c96ca",
   "metadata": {},
   "outputs": [],
   "source": [
    "# Criando o modelo\n",
    "modelo = XGBClassifier()\n",
    "y_treino_res = y_treino_res.astype(int)"
   ]
  },
  {
   "cell_type": "code",
   "execution_count": 42,
   "id": "226acaea",
   "metadata": {},
   "outputs": [
    {
     "name": "stdout",
     "output_type": "stream",
     "text": [
      "Tempo de Treinamento do Modelo: 73.06109547615051\n"
     ]
    }
   ],
   "source": [
    "# Treinando o modelo e verificando o score\n",
    "start = time.time()\n",
    "modelo_v4 = modelo.fit(X_treino_scaled, y_treino_res)\n",
    "scores_v4 = cross_val_score(modelo_v4, X_treino_scaled, y_treino_res, cv = kfold, scoring = 'accuracy')\n",
    "end = time.time()\n",
    "print('Tempo de Treinamento do Modelo:', end - start)"
   ]
  },
  {
   "cell_type": "code",
   "execution_count": 43,
   "id": "03cbc267",
   "metadata": {},
   "outputs": [
    {
     "name": "stdout",
     "output_type": "stream",
     "text": [
      "ExtraTreesClassifier -> Acurácia em Treino: Média = 88.728% Desvio Padrão = 0.232%\n"
     ]
    }
   ],
   "source": [
    "# Imprimindo o resultado do score\n",
    "print (\"ExtraTreesClassifier -> Acurácia em Treino: Média = %0.3f%% Desvio Padrão = %0.3f%%\" % (np.mean(scores_v4)*100, np.std(scores_v4)*100))"
   ]
  },
  {
   "cell_type": "code",
   "execution_count": 44,
   "id": "8e627112",
   "metadata": {},
   "outputs": [
    {
     "data": {
      "text/plain": [
       "array([0, 1, 0, ..., 0, 0, 1])"
      ]
     },
     "execution_count": 44,
     "metadata": {},
     "output_type": "execute_result"
    }
   ],
   "source": [
    "previsoes_v4 = modelo_v4.predict(X_teste_scaled)\n",
    "previsoes_v4"
   ]
  },
  {
   "cell_type": "markdown",
   "id": "8a9d9ec2",
   "metadata": {},
   "source": [
    "## Considerações finais"
   ]
  },
  {
   "cell_type": "markdown",
   "id": "44bbe762",
   "metadata": {},
   "source": [
    "Foi feito previsões usando quatro tipos de algoritmos de aprendizado de máquina: Regressão Logística, SVM - Support Vector Machine, Random Forest e XGBoot.\n",
    "\n",
    "A métrica utilizada para medir a performance de cada algoritmo foi a acurácia sendo que cada um teve como resultado:\n",
    "\n",
    "Algoritmo|Acurácia(%)\n",
    "--------------|----------\n",
    "Regressão Logística| 65,359\n",
    "SVM                | 70,206\n",
    "Random Forest      | 92,264\n",
    "XGBoost            | 88,728\n",
    "\n",
    "Sendo o Random Forest o que apresentou melhor performance, então foi utilizado as previsões deste algoritmo para montar o novo arquivo de **teste.csv** com a coluna inadimplentes."
   ]
  },
  {
   "cell_type": "markdown",
   "id": "2872fbe7",
   "metadata": {},
   "source": [
    "## Salvando o arquivo"
   ]
  },
  {
   "cell_type": "code",
   "execution_count": 50,
   "id": "4d3b6f54",
   "metadata": {},
   "outputs": [],
   "source": [
    "df_teste_novo = df_testelimpo"
   ]
  },
  {
   "cell_type": "code",
   "execution_count": 51,
   "id": "d3d4b43f",
   "metadata": {},
   "outputs": [
    {
     "data": {
      "text/html": [
       "<div>\n",
       "<style scoped>\n",
       "    .dataframe tbody tr th:only-of-type {\n",
       "        vertical-align: middle;\n",
       "    }\n",
       "\n",
       "    .dataframe tbody tr th {\n",
       "        vertical-align: top;\n",
       "    }\n",
       "\n",
       "    .dataframe thead th {\n",
       "        text-align: right;\n",
       "    }\n",
       "</style>\n",
       "<table border=\"1\" class=\"dataframe\">\n",
       "  <thead>\n",
       "    <tr style=\"text-align: right;\">\n",
       "      <th></th>\n",
       "      <th>util_linhas_inseguras</th>\n",
       "      <th>idade</th>\n",
       "      <th>vezes_passou_de_30_59_dias</th>\n",
       "      <th>razao_debito</th>\n",
       "      <th>salario_mensal</th>\n",
       "      <th>numero_linhas_crdto_aberto</th>\n",
       "      <th>numero_vezes_passou_90_dias</th>\n",
       "      <th>numero_emprestimos_imobiliarios</th>\n",
       "      <th>numero_de_vezes_que_passou_60_89_dias</th>\n",
       "      <th>numero_de_dependentes</th>\n",
       "    </tr>\n",
       "  </thead>\n",
       "  <tbody>\n",
       "    <tr>\n",
       "      <th>0</th>\n",
       "      <td>0.025849</td>\n",
       "      <td>62</td>\n",
       "      <td>0</td>\n",
       "      <td>0.081775</td>\n",
       "      <td>8180.0</td>\n",
       "      <td>3</td>\n",
       "      <td>0</td>\n",
       "      <td>2</td>\n",
       "      <td>0</td>\n",
       "      <td>0.0</td>\n",
       "    </tr>\n",
       "    <tr>\n",
       "      <th>1</th>\n",
       "      <td>0.667083</td>\n",
       "      <td>55</td>\n",
       "      <td>0</td>\n",
       "      <td>0.153112</td>\n",
       "      <td>2200.0</td>\n",
       "      <td>3</td>\n",
       "      <td>0</td>\n",
       "      <td>0</td>\n",
       "      <td>0</td>\n",
       "      <td>0.0</td>\n",
       "    </tr>\n",
       "    <tr>\n",
       "      <th>2</th>\n",
       "      <td>0.007093</td>\n",
       "      <td>44</td>\n",
       "      <td>0</td>\n",
       "      <td>0.148800</td>\n",
       "      <td>7499.0</td>\n",
       "      <td>20</td>\n",
       "      <td>0</td>\n",
       "      <td>1</td>\n",
       "      <td>0</td>\n",
       "      <td>0.0</td>\n",
       "    </tr>\n",
       "    <tr>\n",
       "      <th>3</th>\n",
       "      <td>0.091213</td>\n",
       "      <td>54</td>\n",
       "      <td>0</td>\n",
       "      <td>0.351635</td>\n",
       "      <td>5900.0</td>\n",
       "      <td>15</td>\n",
       "      <td>0</td>\n",
       "      <td>1</td>\n",
       "      <td>1</td>\n",
       "      <td>0.0</td>\n",
       "    </tr>\n",
       "    <tr>\n",
       "      <th>4</th>\n",
       "      <td>0.112680</td>\n",
       "      <td>54</td>\n",
       "      <td>0</td>\n",
       "      <td>0.065959</td>\n",
       "      <td>2167.0</td>\n",
       "      <td>3</td>\n",
       "      <td>0</td>\n",
       "      <td>0</td>\n",
       "      <td>0</td>\n",
       "      <td>0.0</td>\n",
       "    </tr>\n",
       "  </tbody>\n",
       "</table>\n",
       "</div>"
      ],
      "text/plain": [
       "   util_linhas_inseguras  idade  vezes_passou_de_30_59_dias  razao_debito  \\\n",
       "0               0.025849     62                           0      0.081775   \n",
       "1               0.667083     55                           0      0.153112   \n",
       "2               0.007093     44                           0      0.148800   \n",
       "3               0.091213     54                           0      0.351635   \n",
       "4               0.112680     54                           0      0.065959   \n",
       "\n",
       "   salario_mensal  numero_linhas_crdto_aberto  numero_vezes_passou_90_dias  \\\n",
       "0          8180.0                           3                            0   \n",
       "1          2200.0                           3                            0   \n",
       "2          7499.0                          20                            0   \n",
       "3          5900.0                          15                            0   \n",
       "4          2167.0                           3                            0   \n",
       "\n",
       "   numero_emprestimos_imobiliarios  numero_de_vezes_que_passou_60_89_dias  \\\n",
       "0                                2                                      0   \n",
       "1                                0                                      0   \n",
       "2                                1                                      0   \n",
       "3                                1                                      1   \n",
       "4                                0                                      0   \n",
       "\n",
       "   numero_de_dependentes  \n",
       "0                    0.0  \n",
       "1                    0.0  \n",
       "2                    0.0  \n",
       "3                    0.0  \n",
       "4                    0.0  "
      ]
     },
     "execution_count": 51,
     "metadata": {},
     "output_type": "execute_result"
    }
   ],
   "source": [
    "df_teste_novo.head()"
   ]
  },
  {
   "cell_type": "code",
   "execution_count": 53,
   "id": "9877f086",
   "metadata": {},
   "outputs": [
    {
     "data": {
      "text/html": [
       "<div>\n",
       "<style scoped>\n",
       "    .dataframe tbody tr th:only-of-type {\n",
       "        vertical-align: middle;\n",
       "    }\n",
       "\n",
       "    .dataframe tbody tr th {\n",
       "        vertical-align: top;\n",
       "    }\n",
       "\n",
       "    .dataframe thead th {\n",
       "        text-align: right;\n",
       "    }\n",
       "</style>\n",
       "<table border=\"1\" class=\"dataframe\">\n",
       "  <thead>\n",
       "    <tr style=\"text-align: right;\">\n",
       "      <th></th>\n",
       "      <th>util_linhas_inseguras</th>\n",
       "      <th>idade</th>\n",
       "      <th>vezes_passou_de_30_59_dias</th>\n",
       "      <th>razao_debito</th>\n",
       "      <th>salario_mensal</th>\n",
       "      <th>numero_linhas_crdto_aberto</th>\n",
       "      <th>numero_vezes_passou_90_dias</th>\n",
       "      <th>numero_emprestimos_imobiliarios</th>\n",
       "      <th>numero_de_vezes_que_passou_60_89_dias</th>\n",
       "      <th>numero_de_dependentes</th>\n",
       "      <th>inadimplentes</th>\n",
       "    </tr>\n",
       "  </thead>\n",
       "  <tbody>\n",
       "    <tr>\n",
       "      <th>0</th>\n",
       "      <td>0.025849</td>\n",
       "      <td>62</td>\n",
       "      <td>0</td>\n",
       "      <td>0.081775</td>\n",
       "      <td>8180.0</td>\n",
       "      <td>3</td>\n",
       "      <td>0</td>\n",
       "      <td>2</td>\n",
       "      <td>0</td>\n",
       "      <td>0.0</td>\n",
       "      <td>0</td>\n",
       "    </tr>\n",
       "    <tr>\n",
       "      <th>1</th>\n",
       "      <td>0.667083</td>\n",
       "      <td>55</td>\n",
       "      <td>0</td>\n",
       "      <td>0.153112</td>\n",
       "      <td>2200.0</td>\n",
       "      <td>3</td>\n",
       "      <td>0</td>\n",
       "      <td>0</td>\n",
       "      <td>0</td>\n",
       "      <td>0.0</td>\n",
       "      <td>0</td>\n",
       "    </tr>\n",
       "    <tr>\n",
       "      <th>2</th>\n",
       "      <td>0.007093</td>\n",
       "      <td>44</td>\n",
       "      <td>0</td>\n",
       "      <td>0.148800</td>\n",
       "      <td>7499.0</td>\n",
       "      <td>20</td>\n",
       "      <td>0</td>\n",
       "      <td>1</td>\n",
       "      <td>0</td>\n",
       "      <td>0.0</td>\n",
       "      <td>0</td>\n",
       "    </tr>\n",
       "    <tr>\n",
       "      <th>3</th>\n",
       "      <td>0.091213</td>\n",
       "      <td>54</td>\n",
       "      <td>0</td>\n",
       "      <td>0.351635</td>\n",
       "      <td>5900.0</td>\n",
       "      <td>15</td>\n",
       "      <td>0</td>\n",
       "      <td>1</td>\n",
       "      <td>1</td>\n",
       "      <td>0.0</td>\n",
       "      <td>0</td>\n",
       "    </tr>\n",
       "    <tr>\n",
       "      <th>4</th>\n",
       "      <td>0.112680</td>\n",
       "      <td>54</td>\n",
       "      <td>0</td>\n",
       "      <td>0.065959</td>\n",
       "      <td>2167.0</td>\n",
       "      <td>3</td>\n",
       "      <td>0</td>\n",
       "      <td>0</td>\n",
       "      <td>0</td>\n",
       "      <td>0.0</td>\n",
       "      <td>0</td>\n",
       "    </tr>\n",
       "  </tbody>\n",
       "</table>\n",
       "</div>"
      ],
      "text/plain": [
       "   util_linhas_inseguras  idade  vezes_passou_de_30_59_dias  razao_debito  \\\n",
       "0               0.025849     62                           0      0.081775   \n",
       "1               0.667083     55                           0      0.153112   \n",
       "2               0.007093     44                           0      0.148800   \n",
       "3               0.091213     54                           0      0.351635   \n",
       "4               0.112680     54                           0      0.065959   \n",
       "\n",
       "   salario_mensal  numero_linhas_crdto_aberto  numero_vezes_passou_90_dias  \\\n",
       "0          8180.0                           3                            0   \n",
       "1          2200.0                           3                            0   \n",
       "2          7499.0                          20                            0   \n",
       "3          5900.0                          15                            0   \n",
       "4          2167.0                           3                            0   \n",
       "\n",
       "   numero_emprestimos_imobiliarios  numero_de_vezes_que_passou_60_89_dias  \\\n",
       "0                                2                                      0   \n",
       "1                                0                                      0   \n",
       "2                                1                                      0   \n",
       "3                                1                                      1   \n",
       "4                                0                                      0   \n",
       "\n",
       "   numero_de_dependentes inadimplentes  \n",
       "0                    0.0             0  \n",
       "1                    0.0             0  \n",
       "2                    0.0             0  \n",
       "3                    0.0             0  \n",
       "4                    0.0             0  "
      ]
     },
     "execution_count": 53,
     "metadata": {},
     "output_type": "execute_result"
    }
   ],
   "source": [
    "df_teste_novo['inadimplentes'] = previsoes_v3\n",
    "df_teste_novo.head()"
   ]
  },
  {
   "cell_type": "code",
   "execution_count": 54,
   "id": "d8ae6bde",
   "metadata": {},
   "outputs": [],
   "source": [
    "df_teste_novo.to_csv('teste_novo.csv')"
   ]
  }
 ],
 "metadata": {
  "kernelspec": {
   "display_name": "Python 3 (ipykernel)",
   "language": "python",
   "name": "python3"
  },
  "language_info": {
   "codemirror_mode": {
    "name": "ipython",
    "version": 3
   },
   "file_extension": ".py",
   "mimetype": "text/x-python",
   "name": "python",
   "nbconvert_exporter": "python",
   "pygments_lexer": "ipython3",
   "version": "3.9.12"
  }
 },
 "nbformat": 4,
 "nbformat_minor": 5
}
